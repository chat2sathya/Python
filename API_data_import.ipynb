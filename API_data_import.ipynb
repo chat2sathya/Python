{
  "nbformat": 4,
  "nbformat_minor": 0,
  "metadata": {
    "colab": {
      "name": "API_data_import.ipynb",
      "version": "0.3.2",
      "provenance": [],
      "collapsed_sections": [],
      "include_colab_link": true
    },
    "kernelspec": {
      "name": "python3",
      "display_name": "Python 3"
    }
  },
  "cells": [
    {
      "cell_type": "markdown",
      "metadata": {
        "id": "view-in-github",
        "colab_type": "text"
      },
      "source": [
        "<a href=\"https://colab.research.google.com/github/chat2sathya/Python/blob/master/API_data_import.ipynb\" target=\"_parent\"><img src=\"https://colab.research.google.com/assets/colab-badge.svg\" alt=\"Open In Colab\"/></a>"
      ]
    },
    {
      "cell_type": "code",
      "metadata": {
        "id": "kW0_VVnJu7z2",
        "colab_type": "code",
        "colab": {}
      },
      "source": [
        "import numpy as np\n",
        "import pandas as pd\n",
        "import requests\n",
        "import json"
      ],
      "execution_count": 0,
      "outputs": []
    },
    {
      "cell_type": "code",
      "metadata": {
        "id": "HQVPxgvhu-DM",
        "colab_type": "code",
        "outputId": "85c8f34a-4f23-4c69-cc89-f579eb35adc9",
        "colab": {
          "base_uri": "https://localhost:8080/",
          "height": 54
        }
      },
      "source": [
        "# Get the info from API\n",
        "url = \"https://wind-bow.glitch.me/twitch-api/channels/freecodecamp\"\n",
        "\n",
        "#url_get = requests.get(url)\n",
        "# If the response is 200, it means the GET request is success\n",
        "#print(url_get)\n",
        "\n",
        "JSONContent = requests.get(url).json()\n",
        "print(JSONContent)\n"
      ],
      "execution_count": 11,
      "outputs": [
        {
          "output_type": "stream",
          "text": [
            "{'mature': False, 'status': 'Greg working on Electron-Vue boilerplate w/ Akira #programming #vuejs #electron', 'broadcaster_language': 'en', 'display_name': 'FreeCodeCamp', 'game': 'Creative', 'language': 'en', '_id': 79776140, 'name': 'freecodecamp', 'created_at': '2015-01-14T03:36:47Z', 'updated_at': '2016-10-10T22:02:01Z', 'delay': None, 'logo': 'https://static-cdn.jtvnw.net/jtv_user_pictures/freecodecamp-profile_image-d9514f2df0962329-300x300.png', 'banner': None, 'video_banner': 'https://static-cdn.jtvnw.net/jtv_user_pictures/freecodecamp-channel_offline_image-b8e133c78cd51cb0-1920x1080.png', 'background': None, 'profile_banner': 'https://static-cdn.jtvnw.net/jtv_user_pictures/freecodecamp-profile_banner-6f5e3445ff474aec-480.png', 'profile_banner_background_color': None, 'partner': False, 'url': 'https://www.twitch.tv/freecodecamp', 'views': 163747, 'followers': 10122, '_links': {'self': 'https://api.twitch.tv/kraken/channels/freecodecamp', 'follows': 'https://api.twitch.tv/kraken/channels/freecodecamp/follows', 'commercial': 'https://api.twitch.tv/kraken/channels/freecodecamp/commercial', 'stream_key': 'https://api.twitch.tv/kraken/channels/freecodecamp/stream_key', 'chat': 'https://api.twitch.tv/kraken/chat/freecodecamp', 'subscriptions': 'https://api.twitch.tv/kraken/channels/freecodecamp/subscriptions', 'editors': 'https://api.twitch.tv/kraken/channels/freecodecamp/editors', 'teams': 'https://api.twitch.tv/kraken/channels/freecodecamp/teams', 'videos': 'https://api.twitch.tv/kraken/channels/freecodecamp/videos'}}\n"
          ],
          "name": "stdout"
        }
      ]
    },
    {
      "cell_type": "code",
      "metadata": {
        "id": "JLNkQ8OLSpYG",
        "colab_type": "code",
        "colab": {
          "base_uri": "https://localhost:8080/",
          "height": 621
        },
        "outputId": "dfb9bf49-19f5-430e-8f5e-3a569213b21c"
      },
      "source": [
        "content = json.dumps(JSONContent, indent = 4, sort_keys=True)\n",
        "print(content)"
      ],
      "execution_count": 14,
      "outputs": [
        {
          "output_type": "stream",
          "text": [
            "{\n",
            "    \"_id\": 79776140,\n",
            "    \"_links\": {\n",
            "        \"chat\": \"https://api.twitch.tv/kraken/chat/freecodecamp\",\n",
            "        \"commercial\": \"https://api.twitch.tv/kraken/channels/freecodecamp/commercial\",\n",
            "        \"editors\": \"https://api.twitch.tv/kraken/channels/freecodecamp/editors\",\n",
            "        \"follows\": \"https://api.twitch.tv/kraken/channels/freecodecamp/follows\",\n",
            "        \"self\": \"https://api.twitch.tv/kraken/channels/freecodecamp\",\n",
            "        \"stream_key\": \"https://api.twitch.tv/kraken/channels/freecodecamp/stream_key\",\n",
            "        \"subscriptions\": \"https://api.twitch.tv/kraken/channels/freecodecamp/subscriptions\",\n",
            "        \"teams\": \"https://api.twitch.tv/kraken/channels/freecodecamp/teams\",\n",
            "        \"videos\": \"https://api.twitch.tv/kraken/channels/freecodecamp/videos\"\n",
            "    },\n",
            "    \"background\": null,\n",
            "    \"banner\": null,\n",
            "    \"broadcaster_language\": \"en\",\n",
            "    \"created_at\": \"2015-01-14T03:36:47Z\",\n",
            "    \"delay\": null,\n",
            "    \"display_name\": \"FreeCodeCamp\",\n",
            "    \"followers\": 10122,\n",
            "    \"game\": \"Creative\",\n",
            "    \"language\": \"en\",\n",
            "    \"logo\": \"https://static-cdn.jtvnw.net/jtv_user_pictures/freecodecamp-profile_image-d9514f2df0962329-300x300.png\",\n",
            "    \"mature\": false,\n",
            "    \"name\": \"freecodecamp\",\n",
            "    \"partner\": false,\n",
            "    \"profile_banner\": \"https://static-cdn.jtvnw.net/jtv_user_pictures/freecodecamp-profile_banner-6f5e3445ff474aec-480.png\",\n",
            "    \"profile_banner_background_color\": null,\n",
            "    \"status\": \"Greg working on Electron-Vue boilerplate w/ Akira #programming #vuejs #electron\",\n",
            "    \"updated_at\": \"2016-10-10T22:02:01Z\",\n",
            "    \"url\": \"https://www.twitch.tv/freecodecamp\",\n",
            "    \"video_banner\": \"https://static-cdn.jtvnw.net/jtv_user_pictures/freecodecamp-channel_offline_image-b8e133c78cd51cb0-1920x1080.png\",\n",
            "    \"views\": 163747\n",
            "}\n"
          ],
          "name": "stdout"
        }
      ]
    },
    {
      "cell_type": "code",
      "metadata": {
        "id": "FJulHa-1vnPe",
        "colab_type": "code",
        "colab": {}
      },
      "source": [
        "# Creating dataset from the json response\n",
        "\n",
        "# List of channels we want to access\n",
        "channels = [\"ESL_SC2\", \"OgamingSC2\", \"cretetion\", \"freecodecamp\", \"storbeck\", \"habathcx\", \"RobotCaleb\", \"noobs2ninjas\"]\n"
      ],
      "execution_count": 0,
      "outputs": []
    },
    {
      "cell_type": "code",
      "metadata": {
        "id": "lwCvuw0m9oWG",
        "colab_type": "code",
        "colab": {}
      },
      "source": [
        "channels_list = []\n",
        "# For each channel, we access its information through its API\n",
        "for channel in channels:\n",
        "    JSONContent = requests.get(\"https://wind-bow.glitch.me/twitch-api/channels/\" + channel).json()\n",
        "    channels_list.append([JSONContent['_id'], JSONContent['display_name'], JSONContent['status'], JSONContent['followers'], JSONContent['views']])\n"
      ],
      "execution_count": 0,
      "outputs": []
    },
    {
      "cell_type": "code",
      "metadata": {
        "id": "V8YZJMpv9q6i",
        "colab_type": "code",
        "outputId": "a4234d05-84f8-46cd-ddf1-7837c4f5d100",
        "colab": {
          "base_uri": "https://localhost:8080/",
          "height": 197
        }
      },
      "source": [
        "dataset = pd.DataFrame(channels_list)\n",
        "dataset.sample(5)"
      ],
      "execution_count": 7,
      "outputs": [
        {
          "output_type": "execute_result",
          "data": {
            "text/html": [
              "<div>\n",
              "<style scoped>\n",
              "    .dataframe tbody tr th:only-of-type {\n",
              "        vertical-align: middle;\n",
              "    }\n",
              "\n",
              "    .dataframe tbody tr th {\n",
              "        vertical-align: top;\n",
              "    }\n",
              "\n",
              "    .dataframe thead th {\n",
              "        text-align: right;\n",
              "    }\n",
              "</style>\n",
              "<table border=\"1\" class=\"dataframe\">\n",
              "  <thead>\n",
              "    <tr style=\"text-align: right;\">\n",
              "      <th></th>\n",
              "      <th>0</th>\n",
              "      <th>1</th>\n",
              "      <th>2</th>\n",
              "      <th>3</th>\n",
              "      <th>4</th>\n",
              "    </tr>\n",
              "  </thead>\n",
              "  <tbody>\n",
              "    <tr>\n",
              "      <th>7</th>\n",
              "      <td>82534701</td>\n",
              "      <td>noobs2ninjas</td>\n",
              "      <td>Building a new hackintosh for #programming and...</td>\n",
              "      <td>835</td>\n",
              "      <td>48102</td>\n",
              "    </tr>\n",
              "    <tr>\n",
              "      <th>6</th>\n",
              "      <td>54925078</td>\n",
              "      <td>RobotCaleb</td>\n",
              "      <td>Code wrangling</td>\n",
              "      <td>20</td>\n",
              "      <td>4602</td>\n",
              "    </tr>\n",
              "    <tr>\n",
              "      <th>2</th>\n",
              "      <td>90401618</td>\n",
              "      <td>cretetion</td>\n",
              "      <td>It's a Divison kind of Day</td>\n",
              "      <td>908</td>\n",
              "      <td>11631</td>\n",
              "    </tr>\n",
              "    <tr>\n",
              "      <th>3</th>\n",
              "      <td>79776140</td>\n",
              "      <td>FreeCodeCamp</td>\n",
              "      <td>Greg working on Electron-Vue boilerplate w/ Ak...</td>\n",
              "      <td>10122</td>\n",
              "      <td>163747</td>\n",
              "    </tr>\n",
              "    <tr>\n",
              "      <th>1</th>\n",
              "      <td>71852806</td>\n",
              "      <td>OgamingSC2</td>\n",
              "      <td>UnderDogs - Rediffusion - Qualifier.</td>\n",
              "      <td>40895</td>\n",
              "      <td>20694507</td>\n",
              "    </tr>\n",
              "  </tbody>\n",
              "</table>\n",
              "</div>"
            ],
            "text/plain": [
              "          0             1  ...      3         4\n",
              "7  82534701  noobs2ninjas  ...    835     48102\n",
              "6  54925078    RobotCaleb  ...     20      4602\n",
              "2  90401618     cretetion  ...    908     11631\n",
              "3  79776140  FreeCodeCamp  ...  10122    163747\n",
              "1  71852806    OgamingSC2  ...  40895  20694507\n",
              "\n",
              "[5 rows x 5 columns]"
            ]
          },
          "metadata": {
            "tags": []
          },
          "execution_count": 7
        }
      ]
    },
    {
      "cell_type": "code",
      "metadata": {
        "id": "UNDfyGRu-Xo2",
        "colab_type": "code",
        "colab": {}
      },
      "source": [
        "# write descriptive column names\n",
        "dataset.columns = ['id','name','status','followers','views']"
      ],
      "execution_count": 0,
      "outputs": []
    },
    {
      "cell_type": "code",
      "metadata": {
        "id": "Yz0D4fnjVvpr",
        "colab_type": "code",
        "colab": {
          "base_uri": "https://localhost:8080/",
          "height": 197
        },
        "outputId": "c5a4dc1a-23d2-4024-acd1-853df54d3388"
      },
      "source": [
        "dataset.sample(5)"
      ],
      "execution_count": 16,
      "outputs": [
        {
          "output_type": "execute_result",
          "data": {
            "text/html": [
              "<div>\n",
              "<style scoped>\n",
              "    .dataframe tbody tr th:only-of-type {\n",
              "        vertical-align: middle;\n",
              "    }\n",
              "\n",
              "    .dataframe tbody tr th {\n",
              "        vertical-align: top;\n",
              "    }\n",
              "\n",
              "    .dataframe thead th {\n",
              "        text-align: right;\n",
              "    }\n",
              "</style>\n",
              "<table border=\"1\" class=\"dataframe\">\n",
              "  <thead>\n",
              "    <tr style=\"text-align: right;\">\n",
              "      <th></th>\n",
              "      <th>id</th>\n",
              "      <th>name</th>\n",
              "      <th>status</th>\n",
              "      <th>followers</th>\n",
              "      <th>views</th>\n",
              "    </tr>\n",
              "  </thead>\n",
              "  <tbody>\n",
              "    <tr>\n",
              "      <th>2</th>\n",
              "      <td>90401618</td>\n",
              "      <td>cretetion</td>\n",
              "      <td>It's a Divison kind of Day</td>\n",
              "      <td>908</td>\n",
              "      <td>11631</td>\n",
              "    </tr>\n",
              "    <tr>\n",
              "      <th>1</th>\n",
              "      <td>71852806</td>\n",
              "      <td>OgamingSC2</td>\n",
              "      <td>UnderDogs - Rediffusion - Qualifier.</td>\n",
              "      <td>40895</td>\n",
              "      <td>20694507</td>\n",
              "    </tr>\n",
              "    <tr>\n",
              "      <th>4</th>\n",
              "      <td>86238744</td>\n",
              "      <td>storbeck</td>\n",
              "      <td>None</td>\n",
              "      <td>10</td>\n",
              "      <td>1019</td>\n",
              "    </tr>\n",
              "    <tr>\n",
              "      <th>3</th>\n",
              "      <td>79776140</td>\n",
              "      <td>FreeCodeCamp</td>\n",
              "      <td>Greg working on Electron-Vue boilerplate w/ Ak...</td>\n",
              "      <td>10122</td>\n",
              "      <td>163747</td>\n",
              "    </tr>\n",
              "    <tr>\n",
              "      <th>0</th>\n",
              "      <td>30220059</td>\n",
              "      <td>ESL_SC2</td>\n",
              "      <td>RERUN: StarCraft 2 - Terminator vs. Parting (P...</td>\n",
              "      <td>135394</td>\n",
              "      <td>60991791</td>\n",
              "    </tr>\n",
              "  </tbody>\n",
              "</table>\n",
              "</div>"
            ],
            "text/plain": [
              "         id          name  ... followers     views\n",
              "2  90401618     cretetion  ...       908     11631\n",
              "1  71852806    OgamingSC2  ...     40895  20694507\n",
              "4  86238744      storbeck  ...        10      1019\n",
              "3  79776140  FreeCodeCamp  ...     10122    163747\n",
              "0  30220059       ESL_SC2  ...    135394  60991791\n",
              "\n",
              "[5 rows x 5 columns]"
            ]
          },
          "metadata": {
            "tags": []
          },
          "execution_count": 16
        }
      ]
    },
    {
      "cell_type": "code",
      "metadata": {
        "id": "R0k4wALyVybP",
        "colab_type": "code",
        "colab": {}
      },
      "source": [
        "#drop those rows that have null, blank, missing values\n",
        "dataset.dropna(axis=0, how='any', inplace = True)"
      ],
      "execution_count": 0,
      "outputs": []
    },
    {
      "cell_type": "code",
      "metadata": {
        "id": "4aNR3lF-V6VH",
        "colab_type": "code",
        "colab": {
          "base_uri": "https://localhost:8080/",
          "height": 197
        },
        "outputId": "3980e29b-9de2-418d-f820-491a83dcf744"
      },
      "source": [
        "dataset.sample(5)"
      ],
      "execution_count": 20,
      "outputs": [
        {
          "output_type": "execute_result",
          "data": {
            "text/html": [
              "<div>\n",
              "<style scoped>\n",
              "    .dataframe tbody tr th:only-of-type {\n",
              "        vertical-align: middle;\n",
              "    }\n",
              "\n",
              "    .dataframe tbody tr th {\n",
              "        vertical-align: top;\n",
              "    }\n",
              "\n",
              "    .dataframe thead th {\n",
              "        text-align: right;\n",
              "    }\n",
              "</style>\n",
              "<table border=\"1\" class=\"dataframe\">\n",
              "  <thead>\n",
              "    <tr style=\"text-align: right;\">\n",
              "      <th></th>\n",
              "      <th>id</th>\n",
              "      <th>name</th>\n",
              "      <th>status</th>\n",
              "      <th>followers</th>\n",
              "      <th>views</th>\n",
              "    </tr>\n",
              "  </thead>\n",
              "  <tbody>\n",
              "    <tr>\n",
              "      <th>2</th>\n",
              "      <td>90401618</td>\n",
              "      <td>cretetion</td>\n",
              "      <td>It's a Divison kind of Day</td>\n",
              "      <td>908</td>\n",
              "      <td>11631</td>\n",
              "    </tr>\n",
              "    <tr>\n",
              "      <th>7</th>\n",
              "      <td>82534701</td>\n",
              "      <td>noobs2ninjas</td>\n",
              "      <td>Building a new hackintosh for #programming and...</td>\n",
              "      <td>835</td>\n",
              "      <td>48102</td>\n",
              "    </tr>\n",
              "    <tr>\n",
              "      <th>1</th>\n",
              "      <td>71852806</td>\n",
              "      <td>OgamingSC2</td>\n",
              "      <td>UnderDogs - Rediffusion - Qualifier.</td>\n",
              "      <td>40895</td>\n",
              "      <td>20694507</td>\n",
              "    </tr>\n",
              "    <tr>\n",
              "      <th>5</th>\n",
              "      <td>6726509</td>\n",
              "      <td>Habathcx</td>\n",
              "      <td>Massively Effective</td>\n",
              "      <td>14</td>\n",
              "      <td>764</td>\n",
              "    </tr>\n",
              "    <tr>\n",
              "      <th>0</th>\n",
              "      <td>30220059</td>\n",
              "      <td>ESL_SC2</td>\n",
              "      <td>RERUN: StarCraft 2 - Terminator vs. Parting (P...</td>\n",
              "      <td>135394</td>\n",
              "      <td>60991791</td>\n",
              "    </tr>\n",
              "  </tbody>\n",
              "</table>\n",
              "</div>"
            ],
            "text/plain": [
              "         id          name  ... followers     views\n",
              "2  90401618     cretetion  ...       908     11631\n",
              "7  82534701  noobs2ninjas  ...       835     48102\n",
              "1  71852806    OgamingSC2  ...     40895  20694507\n",
              "5   6726509      Habathcx  ...        14       764\n",
              "0  30220059       ESL_SC2  ...    135394  60991791\n",
              "\n",
              "[5 rows x 5 columns]"
            ]
          },
          "metadata": {
            "tags": []
          },
          "execution_count": 20
        }
      ]
    },
    {
      "cell_type": "code",
      "metadata": {
        "id": "f8jY4V66WDDd",
        "colab_type": "code",
        "colab": {
          "base_uri": "https://localhost:8080/",
          "height": 34
        },
        "outputId": "82777fbd-36db-4b62-9511-7b3c2f65d965"
      },
      "source": [
        "print(dataset.index)"
      ],
      "execution_count": 21,
      "outputs": [
        {
          "output_type": "stream",
          "text": [
            "Int64Index([0, 1, 2, 3, 5, 6, 7], dtype='int64')\n"
          ],
          "name": "stdout"
        }
      ]
    },
    {
      "cell_type": "code",
      "metadata": {
        "id": "sCWbksMRWVGu",
        "colab_type": "code",
        "colab": {
          "base_uri": "https://localhost:8080/",
          "height": 34
        },
        "outputId": "6dbe054f-92f5-4175-9202-5211226c6694"
      },
      "source": [
        "print(len(dataset.index))"
      ],
      "execution_count": 22,
      "outputs": [
        {
          "output_type": "stream",
          "text": [
            "7\n"
          ],
          "name": "stdout"
        }
      ]
    },
    {
      "cell_type": "code",
      "metadata": {
        "id": "VwP-YewRWaB_",
        "colab_type": "code",
        "colab": {}
      },
      "source": [
        "# Re-define the index values\n",
        "dataset.index = pd.RangeIndex(len(dataset.index))"
      ],
      "execution_count": 0,
      "outputs": []
    },
    {
      "cell_type": "code",
      "metadata": {
        "id": "S5A-fTnnWcQR",
        "colab_type": "code",
        "colab": {}
      },
      "source": [
        "# Export the dataset into CSV file\n",
        "dataset.to_csv('API_JSON.csv',index=None, header = True)"
      ],
      "execution_count": 0,
      "outputs": []
    },
    {
      "cell_type": "code",
      "metadata": {
        "id": "Y1-sIHDhXJXr",
        "colab_type": "code",
        "colab": {}
      },
      "source": [
        ""
      ],
      "execution_count": 0,
      "outputs": []
    }
  ]
}